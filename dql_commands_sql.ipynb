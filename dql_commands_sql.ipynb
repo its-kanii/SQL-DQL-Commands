{
  "nbformat": 4,
  "nbformat_minor": 0,
  "metadata": {
    "colab": {
      "provenance": [],
      "authorship_tag": "ABX9TyOKgppmbhrLSOUjXv4St5Dp",
      "include_colab_link": true
    },
    "kernelspec": {
      "name": "python3",
      "display_name": "Python 3"
    },
    "language_info": {
      "name": "python"
    }
  },
  "cells": [
    {
      "cell_type": "markdown",
      "metadata": {
        "id": "view-in-github",
        "colab_type": "text"
      },
      "source": [
        "<a href=\"https://colab.research.google.com/github/its-kanii/SQL-DQL-Commands/blob/main/dql_commands_sql.ipynb\" target=\"_parent\"><img src=\"https://colab.research.google.com/assets/colab-badge.svg\" alt=\"Open In Colab\"/></a>"
      ]
    },
    {
      "cell_type": "markdown",
      "source": [
        "#DQL (Data Query Language) Commands in SQL\n",
        "DQL commands are used to retrieve data from the database. The primary DQL command in SQL is SELECT.\n",
        "1. SELECT Command\n",
        "\n",
        "The SELECT statement is used to fetch data from one or more tables in a database.\n",
        "\n",
        "**Syntax:**"
      ],
      "metadata": {
        "id": "Y4OTCY-JZTOF"
      }
    },
    {
      "cell_type": "code",
      "execution_count": null,
      "metadata": {
        "id": "jaj8vSUbZOMG"
      },
      "outputs": [],
      "source": [
        "%%sql\n",
        "SELECT column1, column2, ... FROM table_name WHERE condition;\n"
      ]
    },
    {
      "cell_type": "markdown",
      "source": [
        "**Example:**"
      ],
      "metadata": {
        "id": "c2Grk38RaFh5"
      }
    },
    {
      "cell_type": "code",
      "source": [
        "%%sql\n",
        "SELECT name, age FROM employees WHERE age > 30;"
      ],
      "metadata": {
        "id": "bjq2h63LaIfn"
      },
      "execution_count": null,
      "outputs": []
    },
    {
      "cell_type": "markdown",
      "source": [
        "This query retrieves the names and ages of employees who are older than 30.\n"
      ],
      "metadata": {
        "id": "5dSLO1w9aMXE"
      }
    },
    {
      "cell_type": "markdown",
      "source": [
        "#Use Cases of DQL Commands\n"
      ],
      "metadata": {
        "id": "57PSnPGJaRNa"
      }
    },
    {
      "cell_type": "markdown",
      "source": [
        "#1. Retrieving All Records\n",
        "\n",
        "Use Case:\n",
        "\n",
        "When an HR manager wants to view all employees' details.\n",
        "\n",
        "Example:"
      ],
      "metadata": {
        "id": "zuagpgR7brJE"
      }
    },
    {
      "cell_type": "code",
      "source": [
        "%%sql\n",
        "SELECT * FROM employees;"
      ],
      "metadata": {
        "id": "r6Zf3oZkabkw"
      },
      "execution_count": null,
      "outputs": []
    },
    {
      "cell_type": "markdown",
      "source": [
        "Retrieves all columns and rows from the employees table.\n",
        "\n"
      ],
      "metadata": {
        "id": "EQkJQnVaafmJ"
      }
    },
    {
      "cell_type": "markdown",
      "source": [
        "#2. Filtering Data\n",
        "Use Case:\n",
        "\n",
        "When a sales department wants to fetch orders above a certain amount.\n",
        "\n",
        "Example:"
      ],
      "metadata": {
        "id": "hXGfW6xXailr"
      }
    },
    {
      "cell_type": "code",
      "source": [
        "%%sql\n",
        "SELECT order_id, customer_name, total_amount\n",
        "FROM orders\n",
        "WHERE total_amount > 5000;"
      ],
      "metadata": {
        "id": "Sp1DgoB1aoRH"
      },
      "execution_count": null,
      "outputs": []
    },
    {
      "cell_type": "markdown",
      "source": [
        "Retrieves orders where the total amount exceeds 5000.\n",
        "\n"
      ],
      "metadata": {
        "id": "6HFbubcbar72"
      }
    },
    {
      "cell_type": "markdown",
      "source": [
        "#3. Sorting Data\n",
        "Use Case:\n",
        "\n",
        " When a finance team wants to see the highest transactions first.\n",
        "\n",
        "Example:"
      ],
      "metadata": {
        "id": "oENsOafcavKk"
      }
    },
    {
      "cell_type": "code",
      "source": [
        "%%sql\n",
        "SELECT customer_name, total_amount\n",
        "FROM transactions\n",
        "ORDER BY total_amount DESC;"
      ],
      "metadata": {
        "id": "xGYZt-g7a1ms"
      },
      "execution_count": null,
      "outputs": []
    },
    {
      "cell_type": "markdown",
      "source": [
        "Fetches transactions in descending order of total amount."
      ],
      "metadata": {
        "id": "KLK7oe5Xa5NS"
      }
    },
    {
      "cell_type": "markdown",
      "source": [
        "#4. Aggregation with GROUP BY\n",
        "Use Case:\n",
        "\n",
        "When a business wants to see total sales per product.\n",
        "\n",
        "Example:"
      ],
      "metadata": {
        "id": "e_zO3QJFa8PP"
      }
    },
    {
      "cell_type": "code",
      "source": [
        "%%sql\n",
        "SELECT product_id, SUM(total_amount) AS total_sales\n",
        "FROM orders\n",
        "GROUP BY product_id;"
      ],
      "metadata": {
        "id": "HbkSvoCTbCG_"
      },
      "execution_count": null,
      "outputs": []
    },
    {
      "cell_type": "markdown",
      "source": [
        "Groups orders by product and calculates the total sales per product.\n",
        "\n"
      ],
      "metadata": {
        "id": "EzwTpPL3bF26"
      }
    },
    {
      "cell_type": "markdown",
      "source": [
        "#5. Using Joins for Multiple Tables\n",
        "Use Case:\n",
        "\n",
        " When a company wants to fetch employee names with their department details.\n",
        "\n",
        "Example:"
      ],
      "metadata": {
        "id": "z40aUSwIbKsu"
      }
    },
    {
      "cell_type": "code",
      "source": [
        "%%sql\n",
        "SELECT employees.name, departments.department_name\n",
        "FROM employees\n",
        "JOIN departments ON employees.department_id = departments.department_id;"
      ],
      "metadata": {
        "id": "vblAY9z7bOK6"
      },
      "execution_count": null,
      "outputs": []
    },
    {
      "cell_type": "markdown",
      "source": [
        "Fetches employee names along with their respective department names.\n"
      ],
      "metadata": {
        "id": "dOkOH2I_bNcU"
      }
    },
    {
      "cell_type": "markdown",
      "source": [
        "* DQL is essential for querying data efficiently, and combining it with\n",
        "filtering, sorting, and aggregation helps in data analysis and reporting."
      ],
      "metadata": {
        "id": "MUGgN5aSbYyX"
      }
    }
  ]
}